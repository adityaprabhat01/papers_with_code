{
 "cells": [
  {
   "cell_type": "code",
   "execution_count": 1,
   "metadata": {},
   "outputs": [],
   "source": [
    "import torch\n",
    "import numpy as np\n",
    "from tqdm import tqdm\n",
    "import torch.nn as nn\n",
    "import torch.optim as optim\n",
    "import torch.nn.functional as F\n",
    "from torchvision import transforms, datasets, utils"
   ]
  },
  {
   "cell_type": "code",
   "execution_count": 2,
   "metadata": {},
   "outputs": [
    {
     "name": "stdout",
     "output_type": "stream",
     "text": [
      "Files already downloaded and verified\n"
     ]
    }
   ],
   "source": [
    "train_data = datasets.CIFAR10('CIFAR10', train = True, \n",
    "                         transform = transforms.Compose([transforms.ToTensor()]),\n",
    "                         download = True)\n",
    "\n",
    "train_batch = torch.utils.data.DataLoader(train_data, batch_size = 100, shuffle = True)"
   ]
  },
  {
   "cell_type": "code",
   "execution_count": 3,
   "metadata": {},
   "outputs": [
    {
     "name": "stdout",
     "output_type": "stream",
     "text": [
      "GeForce MX130\n"
     ]
    }
   ],
   "source": [
    "if torch.cuda.is_available():\n",
    "    device = torch.device('cuda:0')\n",
    "    print(torch.cuda.get_device_name(0))\n",
    "else:\n",
    "    device = torch.device('cpu')\n",
    "    print(\"Running on cpu\")"
   ]
  },
  {
   "cell_type": "code",
   "execution_count": 4,
   "metadata": {},
   "outputs": [],
   "source": [
    "def latent_space_vectors(size): #size is the number of samples in a batch\n",
    "    return torch.randn(size, 100, 1, 1).to(device)\n",
    "\n",
    "def real_data_target(size):\n",
    "    return (torch.ones(size, 1)).to(device)\n",
    "\n",
    "def fake_data_target(size):\n",
    "    return (torch.zeros(size, 1)).to(device)"
   ]
  },
  {
   "cell_type": "code",
   "execution_count": 5,
   "metadata": {},
   "outputs": [],
   "source": [
    "class Generator(nn.Module):\n",
    "    def __init__(self):\n",
    "        super().__init__()\n",
    "        \n",
    "        self.convT1 = nn.ConvTranspose2d(100, 256, kernel_size = 4, stride = 1, padding = 0)\n",
    "        self.batch_norm1 = nn.BatchNorm2d(256)\n",
    "        \n",
    "        self.convT1_labels = nn.ConvTranspose2d(10, 256, kernel_size = 4, stride = 1, padding = 0)\n",
    "        self.batch_norm1_labels = nn.BatchNorm2d(256)\n",
    "        \n",
    "        self.convT2 = nn.ConvTranspose2d(512, 256, kernel_size = 4, stride = 2, padding = 1)\n",
    "        self.batch_norm2 = nn.BatchNorm2d(256)\n",
    "        self.convT3 = nn.ConvTranspose2d(256, 128, kernel_size = 4, stride = 2, padding = 1)\n",
    "        self.batch_norm3 = nn.BatchNorm2d(128)\n",
    "        self.convT4 = nn.ConvTranspose2d(128, 3, kernel_size = 4, stride = 2, padding = 1)\n",
    "        \n",
    "    def forward(self, x, y):\n",
    "        x = self.convT1(x)\n",
    "        x = F.relu(self.batch_norm1(x))\n",
    "        y = self.convT1_labels(y)\n",
    "        y = F.relu(self.batch_norm1_labels(y))\n",
    "        x = torch.cat((x,y), 1)\n",
    "        x = self.convT2(x)\n",
    "        x = F.relu(self.batch_norm2(x))\n",
    "        x = self.convT3(x)\n",
    "        x = F.relu(self.batch_norm3(x))\n",
    "        x = self.convT4(x)\n",
    "        x = torch.tanh(x)\n",
    "        return x"
   ]
  },
  {
   "cell_type": "code",
   "execution_count": 6,
   "metadata": {},
   "outputs": [],
   "source": [
    "class Discriminator(nn.Module):\n",
    "    def __init__(self):\n",
    "        super().__init__()\n",
    "        self.linear_label = nn.Linear(10, 1024)\n",
    "        self.conv1 = nn.Conv2d(3, 32, kernel_size = 4, stride = 2, padding = 1)\n",
    "        \n",
    "        self.conv1_labels = nn.Conv2d(1, 32, kernel_size = 4, stride = 2, padding = 1)\n",
    "        \n",
    "        self.conv2 = nn.Conv2d(64, 128, kernel_size = 4, stride = 2, padding = 1)\n",
    "        self.batch_norm1 = nn.BatchNorm2d(128)\n",
    "        self.conv3 = nn.Conv2d(128, 256, kernel_size = 4, stride = 2, padding = 1)\n",
    "        self.batch_norm2 = nn.BatchNorm2d(256)\n",
    "        self.conv4 = nn.Conv2d(256, 512, kernel_size = 4, stride = 2, padding = 1)\n",
    "        self.batch_norm3 = nn.BatchNorm2d(512)\n",
    "        self.conv5 = nn.Conv2d(512, 1, kernel_size = 2, stride = 1, padding = 0) #4,1,0\n",
    "        \n",
    "    def forward(self, x, y):\n",
    "        x = self.conv1(x)\n",
    "        x = F.leaky_relu(x, 0.2)\n",
    "        y = self.linear_label(y)\n",
    "        y = y.view(100, 1, 32, 32)\n",
    "        y = self.conv1_labels(y)\n",
    "        y = F.leaky_relu(y, 0.2)\n",
    "        x = torch.cat((x, y), 1)\n",
    "        x = self.conv2(x)\n",
    "        x = F.leaky_relu(self.batch_norm1(x), 0.2)\n",
    "        x = self.conv3(x)\n",
    "        x = F.leaky_relu(self.batch_norm2(x), 0.2)\n",
    "        x = self.conv4(x)\n",
    "        x = F.leaky_relu(self.batch_norm3(x), 0.2)\n",
    "        x = self.conv5(x)\n",
    "        x = torch.sigmoid(x)\n",
    "        return x"
   ]
  },
  {
   "cell_type": "code",
   "execution_count": 8,
   "metadata": {},
   "outputs": [
    {
     "data": {
      "text/plain": [
       "Generator(\n",
       "  (convT1): ConvTranspose2d(100, 256, kernel_size=(4, 4), stride=(1, 1))\n",
       "  (batch_norm1): BatchNorm2d(256, eps=1e-05, momentum=0.1, affine=True, track_running_stats=True)\n",
       "  (convT1_labels): ConvTranspose2d(10, 256, kernel_size=(4, 4), stride=(1, 1))\n",
       "  (batch_norm1_labels): BatchNorm2d(256, eps=1e-05, momentum=0.1, affine=True, track_running_stats=True)\n",
       "  (convT2): ConvTranspose2d(512, 256, kernel_size=(4, 4), stride=(2, 2), padding=(1, 1))\n",
       "  (batch_norm2): BatchNorm2d(256, eps=1e-05, momentum=0.1, affine=True, track_running_stats=True)\n",
       "  (convT3): ConvTranspose2d(256, 128, kernel_size=(4, 4), stride=(2, 2), padding=(1, 1))\n",
       "  (batch_norm3): BatchNorm2d(128, eps=1e-05, momentum=0.1, affine=True, track_running_stats=True)\n",
       "  (convT4): ConvTranspose2d(128, 3, kernel_size=(4, 4), stride=(2, 2), padding=(1, 1))\n",
       ")"
      ]
     },
     "execution_count": 8,
     "metadata": {},
     "output_type": "execute_result"
    }
   ],
   "source": [
    "generator = Generator()\n",
    "generator.to(device)"
   ]
  },
  {
   "cell_type": "code",
   "execution_count": 9,
   "metadata": {},
   "outputs": [
    {
     "data": {
      "text/plain": [
       "Discriminator(\n",
       "  (linear_label): Linear(in_features=10, out_features=1024, bias=True)\n",
       "  (conv1): Conv2d(3, 32, kernel_size=(4, 4), stride=(2, 2), padding=(1, 1))\n",
       "  (conv1_labels): Conv2d(1, 32, kernel_size=(4, 4), stride=(2, 2), padding=(1, 1))\n",
       "  (conv2): Conv2d(64, 128, kernel_size=(4, 4), stride=(2, 2), padding=(1, 1))\n",
       "  (batch_norm1): BatchNorm2d(128, eps=1e-05, momentum=0.1, affine=True, track_running_stats=True)\n",
       "  (conv3): Conv2d(128, 256, kernel_size=(4, 4), stride=(2, 2), padding=(1, 1))\n",
       "  (batch_norm2): BatchNorm2d(256, eps=1e-05, momentum=0.1, affine=True, track_running_stats=True)\n",
       "  (conv4): Conv2d(256, 512, kernel_size=(4, 4), stride=(2, 2), padding=(1, 1))\n",
       "  (batch_norm3): BatchNorm2d(512, eps=1e-05, momentum=0.1, affine=True, track_running_stats=True)\n",
       "  (conv5): Conv2d(512, 1, kernel_size=(2, 2), stride=(1, 1))\n",
       ")"
      ]
     },
     "execution_count": 9,
     "metadata": {},
     "output_type": "execute_result"
    }
   ],
   "source": [
    "discriminator = Discriminator()\n",
    "discriminator.to(device)"
   ]
  },
  {
   "cell_type": "code",
   "execution_count": 10,
   "metadata": {},
   "outputs": [],
   "source": [
    "loss_function = torch.nn.BCELoss()\n",
    "optimizer_generator = optim.Adam(generator.parameters(), lr = 0.0002)\n",
    "optimizer_discriminator = optim.Adam(discriminator.parameters(), lr = 0.0002)"
   ]
  },
  {
   "cell_type": "code",
   "execution_count": 11,
   "metadata": {},
   "outputs": [],
   "source": [
    "def one_hot_encoder(labels, num_labels):\n",
    "    batch_size = len(labels)\n",
    "    one_hot_labels = np.zeros([batch_size, num_labels])\n",
    "    for i in range(batch_size):\n",
    "        one_hot_labels[i][labels[i]] = 1\n",
    "    return one_hot_labels"
   ]
  },
  {
   "cell_type": "code",
   "execution_count": 12,
   "metadata": {},
   "outputs": [],
   "source": [
    "def train_generator(fake_image, fake_image_labels):\n",
    "    optimizer_generator.zero_grad()\n",
    "    \n",
    "    prediction_fake_image = discriminator.forward(fake_image, fake_image_labels)\n",
    "    loss_fake_image = loss_function(prediction_fake_image, real_data_target(prediction_fake_image.size(0)))\n",
    "    loss_fake_image.backward()\n",
    "    optimizer_generator.step()\n",
    "    \n",
    "    return loss_fake_image"
   ]
  },
  {
   "cell_type": "code",
   "execution_count": 13,
   "metadata": {},
   "outputs": [],
   "source": [
    "def train_discriminator(real_image, fake_image, real_labels, fake_labels):\n",
    "    optimizer_discriminator.zero_grad()\n",
    "    \n",
    "    #train on real images\n",
    "    prediction_real_image = discriminator.forward(real_image, real_labels)\n",
    "    loss_real_image = loss_function(prediction_real_image, real_data_target(prediction_real_image.size(0)))\n",
    "    loss_real_image.backward()\n",
    "    \n",
    "    #train on fake images\n",
    "    prediction_fake_image = discriminator.forward(fake_image, fake_labels)\n",
    "    loss_fake_image = loss_function(prediction_fake_image, fake_data_target(prediction_fake_image.size(0)))\n",
    "    loss_fake_image.backward()\n",
    "    \n",
    "    optimizer_discriminator.step()\n",
    "    \n",
    "    return loss_real_image + loss_fake_image, prediction_real_image, prediction_fake_image"
   ]
  },
  {
   "cell_type": "code",
   "execution_count": 15,
   "metadata": {},
   "outputs": [
    {
     "name": "stderr",
     "output_type": "stream",
     "text": [
      "100%|██████████| 500/500 [07:00<00:00,  1.19it/s]\n"
     ]
    },
    {
     "name": "stdout",
     "output_type": "stream",
     "text": [
      "Discriminator loss = 0.0002829978 Generator loss = 9.001091\n"
     ]
    }
   ],
   "source": [
    "EPOCHS = 1\n",
    "\n",
    "for i in range(EPOCHS):\n",
    "    for real_batch, labels in tqdm(train_batch):\n",
    "        \n",
    "        real_image = real_batch.to(device)\n",
    "        real_labels = torch.Tensor(one_hot_encoder(labels, 10)).to(device)\n",
    "        fake_labels = torch.Tensor(torch.randn(100, 10, 1, 1)).to(device)\n",
    "        fake_image = generator.forward(latent_space_vectors(100), fake_labels)\n",
    "        d_error, d_pred_real, d_pred_fake = train_discriminator(real_image, fake_image, real_labels, fake_labels.view(100, 10))\n",
    "        \n",
    "        fake_labels = torch.Tensor(torch.randn(100, 10, 1, 1)).to(device)\n",
    "        fake_image = generator.forward(latent_space_vectors(100), fake_labels).to(device)\n",
    "        g_error = train_generator(fake_image, fake_labels.view(100, 10))\n",
    "\n",
    "    print(\"Discriminator loss = \" + str(d_error.data.cpu().numpy()) + \" Generator loss = \" + str(g_error.data.cpu().numpy()))"
   ]
  },
  {
   "cell_type": "code",
   "execution_count": 16,
   "metadata": {},
   "outputs": [],
   "source": [
    "utils.save_image(fake_image, 'epochs.png')"
   ]
  },
  {
   "cell_type": "code",
   "execution_count": null,
   "metadata": {},
   "outputs": [],
   "source": []
  }
 ],
 "metadata": {
  "kernelspec": {
   "display_name": "Python 3",
   "language": "python",
   "name": "python3"
  },
  "language_info": {
   "codemirror_mode": {
    "name": "ipython",
    "version": 3
   },
   "file_extension": ".py",
   "mimetype": "text/x-python",
   "name": "python",
   "nbconvert_exporter": "python",
   "pygments_lexer": "ipython3",
   "version": "3.7.4"
  }
 },
 "nbformat": 4,
 "nbformat_minor": 4
}
