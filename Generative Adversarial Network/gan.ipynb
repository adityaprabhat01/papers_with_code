{
 "cells": [
  {
   "cell_type": "code",
   "execution_count": 1,
   "metadata": {},
   "outputs": [],
   "source": [
    "import torch\n",
    "import numpy as np\n",
    "from tqdm import tqdm\n",
    "import torch.nn as nn\n",
    "import torch.optim as optim\n",
    "import torch.nn.functional as F\n",
    "from torchvision import transforms, datasets"
   ]
  },
  {
   "cell_type": "code",
   "execution_count": 2,
   "metadata": {},
   "outputs": [],
   "source": [
    "train = datasets.MNIST('', train = True, download = True,\n",
    "                       transform = transforms.Compose([transforms.ToTensor()]))\n",
    "train_set = torch.utils.data.DataLoader(train, batch_size = 100, shuffle = True)"
   ]
  },
  {
   "cell_type": "code",
   "execution_count": 3,
   "metadata": {},
   "outputs": [
    {
     "name": "stdout",
     "output_type": "stream",
     "text": [
      "Running on GPU\n"
     ]
    }
   ],
   "source": [
    "if torch.cuda.is_available():\n",
    "    device = torch.device('cuda:0')\n",
    "    print(\"Running on GPU\")\n",
    "else:\n",
    "    device = torch.device('cpu')\n",
    "    print(\"Running on cpu\")"
   ]
  },
  {
   "cell_type": "code",
   "execution_count": 4,
   "metadata": {},
   "outputs": [],
   "source": [
    "def latent_space_vectors(size): #size is the number of samples in a batch\n",
    "    return torch.randn(size, 100).to(device)\n",
    "\n",
    "def real_data_target(size):\n",
    "    return (torch.ones(size, 1)).to(device)\n",
    "\n",
    "def fake_data_target(size):\n",
    "    return (torch.zeros(size, 1)).to(device)"
   ]
  },
  {
   "cell_type": "code",
   "execution_count": 5,
   "metadata": {},
   "outputs": [],
   "source": [
    "class Generator(nn.Module):\n",
    "    def __init__(self):\n",
    "        super(Generator, self).__init__()\n",
    "        input_features = 100\n",
    "        output_features = 784\n",
    "        self.fc1 = nn.Linear(input_features, 256)\n",
    "        self.fc2 = nn.Linear(256, 512)\n",
    "        self.fc3 = nn.Linear(512, 1024)\n",
    "        self.out = nn.Linear(1024, output_features)\n",
    "        \n",
    "    def forward(self, x):\n",
    "        x = self.fc1(x)\n",
    "        x = F.leaky_relu(x, 0.2)\n",
    "        x = self.fc2(x)\n",
    "        x = F.leaky_relu(x, 0.2)\n",
    "        x = self.fc3(x)\n",
    "        x = F.leaky_relu(x, 0.2)\n",
    "        x = self.out(x)\n",
    "        x = torch.tanh(x)\n",
    "        return x"
   ]
  },
  {
   "cell_type": "code",
   "execution_count": 6,
   "metadata": {},
   "outputs": [],
   "source": [
    "class Discriminator(nn.Module):\n",
    "    def __init__(self):\n",
    "        super(Discriminator, self).__init__()\n",
    "        input_features = 784\n",
    "        output_features = 1\n",
    "        self.fc1 = nn.Linear(input_features, 1024)\n",
    "        self.fc2 = nn.Linear(1024, 512)\n",
    "        self.fc3 = nn.Linear(512, 256)\n",
    "        self.out = nn.Linear(256, output_features)\n",
    "    \n",
    "    def forward(self, x):\n",
    "        x = self.fc1(x)\n",
    "        x = F.leaky_relu(x, 0.2)\n",
    "        x = self.fc2(x)\n",
    "        x = F.leaky_relu(x, 0.2)\n",
    "        x = self.fc3(x)\n",
    "        x = F.leaky_relu(x, 0.2)\n",
    "        x = self.out(x)\n",
    "        x = torch.sigmoid(x)\n",
    "        return x"
   ]
  },
  {
   "cell_type": "code",
   "execution_count": 7,
   "metadata": {},
   "outputs": [
    {
     "name": "stdout",
     "output_type": "stream",
     "text": [
      "Generator(\n",
      "  (fc1): Linear(in_features=100, out_features=256, bias=True)\n",
      "  (fc2): Linear(in_features=256, out_features=512, bias=True)\n",
      "  (fc3): Linear(in_features=512, out_features=1024, bias=True)\n",
      "  (out): Linear(in_features=1024, out_features=784, bias=True)\n",
      ")\n",
      "Discriminator(\n",
      "  (fc1): Linear(in_features=784, out_features=1024, bias=True)\n",
      "  (fc2): Linear(in_features=1024, out_features=512, bias=True)\n",
      "  (fc3): Linear(in_features=512, out_features=256, bias=True)\n",
      "  (out): Linear(in_features=256, out_features=1, bias=True)\n",
      ")\n",
      "BCELoss()\n"
     ]
    }
   ],
   "source": [
    "loss_function = torch.nn.BCELoss()\n",
    "generator = Generator()\n",
    "discriminator = Discriminator()\n",
    "\n",
    "if torch.cuda.is_available():\n",
    "    generator.cuda()\n",
    "    discriminator.cuda()\n",
    "    loss_function.cuda()\n",
    "    print(generator)\n",
    "    print(discriminator)\n",
    "    print(loss_function)"
   ]
  },
  {
   "cell_type": "code",
   "execution_count": 8,
   "metadata": {},
   "outputs": [],
   "source": [
    "optimizer_generator = optim.Adam(generator.parameters(), lr=0.0002)\n",
    "optimizer_discriminator = optim.Adam(discriminator.parameters(), lr=0.0002)"
   ]
  },
  {
   "cell_type": "code",
   "execution_count": 9,
   "metadata": {},
   "outputs": [],
   "source": [
    "def train_discriminator(real_image, fake_image):\n",
    "    optimizer_discriminator.zero_grad()\n",
    "    \n",
    "    #training discriminator using real images\n",
    "    prediction_real_image = discriminator.forward(real_image)\n",
    "    loss_real_image = loss_function(prediction_real_image, real_data_target(real_image.size(0)))\n",
    "    loss_real_image.backward()\n",
    "    \n",
    "    #training discriminator using fake images\n",
    "    prediction_fake_image = discriminator.forward(fake_image)\n",
    "    loss_fake_image = loss_function(prediction_fake_image, fake_data_target(prediction_fake_image.size(0)))\n",
    "    loss_fake_image.backward()\n",
    "    \n",
    "    optimizer_discriminator.step()\n",
    "    \n",
    "    return loss_fake_image + loss_real_image, prediction_real_image, prediction_fake_image"
   ]
  },
  {
   "cell_type": "code",
   "execution_count": 10,
   "metadata": {},
   "outputs": [],
   "source": [
    "def tarin_generator(fake_image):\n",
    "    optimizer_generator.zero_grad()\n",
    "    prediction_fake_image = discriminator.forward(fake_image)\n",
    "    error_fake_image = loss_function(prediction_fake_image, real_data_target(prediction_fake_image.size(0)))\n",
    "    error_fake_image.backward()\n",
    "    optimizer_generator.step()\n",
    "    \n",
    "    return error_fake_image"
   ]
  },
  {
   "cell_type": "code",
   "execution_count": 11,
   "metadata": {},
   "outputs": [
    {
     "name": "stderr",
     "output_type": "stream",
     "text": [
      "100%|████████████████████████████████████████████████████████████████████████████████| 600/600 [00:30<00:00, 19.82it/s]\n",
      "  0%|▎                                                                                 | 2/600 [00:00<00:32, 18.40it/s]"
     ]
    },
    {
     "name": "stdout",
     "output_type": "stream",
     "text": [
      "Discriminator loss = 1.1046861 Generator loss = 1.2974416\n"
     ]
    },
    {
     "name": "stderr",
     "output_type": "stream",
     "text": [
      "100%|████████████████████████████████████████████████████████████████████████████████| 600/600 [00:31<00:00, 18.86it/s]\n",
      "  0%|▎                                                                                 | 2/600 [00:00<00:35, 16.85it/s]"
     ]
    },
    {
     "name": "stdout",
     "output_type": "stream",
     "text": [
      "Discriminator loss = 0.35793236 Generator loss = 1.8317511\n"
     ]
    },
    {
     "name": "stderr",
     "output_type": "stream",
     "text": [
      "100%|████████████████████████████████████████████████████████████████████████████████| 600/600 [00:32<00:00, 18.48it/s]\n",
      "  0%|▎                                                                                 | 2/600 [00:00<00:38, 15.54it/s]"
     ]
    },
    {
     "name": "stdout",
     "output_type": "stream",
     "text": [
      "Discriminator loss = 0.33811456 Generator loss = 3.0206711\n"
     ]
    },
    {
     "name": "stderr",
     "output_type": "stream",
     "text": [
      "100%|████████████████████████████████████████████████████████████████████████████████| 600/600 [00:33<00:00, 18.14it/s]\n",
      "  0%|▎                                                                                 | 2/600 [00:00<00:36, 16.31it/s]"
     ]
    },
    {
     "name": "stdout",
     "output_type": "stream",
     "text": [
      "Discriminator loss = 0.821491 Generator loss = 2.058123\n"
     ]
    },
    {
     "name": "stderr",
     "output_type": "stream",
     "text": [
      "100%|████████████████████████████████████████████████████████████████████████████████| 600/600 [00:33<00:00, 17.98it/s]\n",
      "  0%|▎                                                                                 | 2/600 [00:00<00:34, 17.29it/s]"
     ]
    },
    {
     "name": "stdout",
     "output_type": "stream",
     "text": [
      "Discriminator loss = 0.46835536 Generator loss = 2.0661302\n"
     ]
    },
    {
     "name": "stderr",
     "output_type": "stream",
     "text": [
      "100%|████████████████████████████████████████████████████████████████████████████████| 600/600 [00:33<00:00, 17.82it/s]\n",
      "  0%|▎                                                                                 | 2/600 [00:00<00:36, 16.17it/s]"
     ]
    },
    {
     "name": "stdout",
     "output_type": "stream",
     "text": [
      "Discriminator loss = 0.3697992 Generator loss = 2.9792717\n"
     ]
    },
    {
     "name": "stderr",
     "output_type": "stream",
     "text": [
      "100%|████████████████████████████████████████████████████████████████████████████████| 600/600 [00:33<00:00, 17.82it/s]\n",
      "  0%|▎                                                                                 | 2/600 [00:00<00:39, 15.07it/s]"
     ]
    },
    {
     "name": "stdout",
     "output_type": "stream",
     "text": [
      "Discriminator loss = 0.48019934 Generator loss = 2.7912111\n"
     ]
    },
    {
     "name": "stderr",
     "output_type": "stream",
     "text": [
      "100%|████████████████████████████████████████████████████████████████████████████████| 600/600 [00:33<00:00, 17.79it/s]\n",
      "  0%|▎                                                                                 | 2/600 [00:00<00:39, 15.19it/s]"
     ]
    },
    {
     "name": "stdout",
     "output_type": "stream",
     "text": [
      "Discriminator loss = 0.5994385 Generator loss = 2.1251178\n"
     ]
    },
    {
     "name": "stderr",
     "output_type": "stream",
     "text": [
      "100%|████████████████████████████████████████████████████████████████████████████████| 600/600 [00:33<00:00, 17.95it/s]\n",
      "  0%|▎                                                                                 | 2/600 [00:00<00:42, 14.12it/s]"
     ]
    },
    {
     "name": "stdout",
     "output_type": "stream",
     "text": [
      "Discriminator loss = 0.5162189 Generator loss = 2.2121634\n"
     ]
    },
    {
     "name": "stderr",
     "output_type": "stream",
     "text": [
      "100%|████████████████████████████████████████████████████████████████████████████████| 600/600 [00:33<00:00, 17.74it/s]"
     ]
    },
    {
     "name": "stdout",
     "output_type": "stream",
     "text": [
      "Discriminator loss = 0.7448069 Generator loss = 2.4311585\n"
     ]
    },
    {
     "name": "stderr",
     "output_type": "stream",
     "text": [
      "\n"
     ]
    }
   ],
   "source": [
    "EPOCHS = 10\n",
    "\n",
    "for epoch in range(EPOCHS):\n",
    "    for real_batch,_ in tqdm(train_set):\n",
    "\n",
    "        real_image = real_batch.view(real_batch.size(0), 784).to(device)\n",
    "        fake_image = generator.forward(latent_space_vectors(100))\n",
    "        d_error, d_pred_real, d_pred_fake = train_discriminator(real_image, fake_image)\n",
    "        \n",
    "        \n",
    "        fake_image = generator.forward(latent_space_vectors(100))\n",
    "        g_error = tarin_generator(fake_image)\n",
    "        \n",
    "    print(\"Discriminator loss = \" + str(d_error.data.cpu().numpy()) + \" Generator loss = \" + str(g_error.data.cpu().numpy()))"
   ]
  },
  {
   "cell_type": "markdown",
   "metadata": {},
   "source": [
    "<h3>GANs are hard to train</h3>\n",
    "Looking for more fine tuning and optimized way for training."
   ]
  },
  {
   "cell_type": "code",
   "execution_count": null,
   "metadata": {},
   "outputs": [],
   "source": []
  }
 ],
 "metadata": {
  "kernelspec": {
   "display_name": "Python 3",
   "language": "python",
   "name": "python3"
  },
  "language_info": {
   "codemirror_mode": {
    "name": "ipython",
    "version": 3
   },
   "file_extension": ".py",
   "mimetype": "text/x-python",
   "name": "python",
   "nbconvert_exporter": "python",
   "pygments_lexer": "ipython3",
   "version": "3.7.4"
  }
 },
 "nbformat": 4,
 "nbformat_minor": 4
}
