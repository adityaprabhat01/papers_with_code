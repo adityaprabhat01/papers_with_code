{
 "cells": [
  {
   "cell_type": "code",
   "execution_count": 2,
   "metadata": {},
   "outputs": [],
   "source": [
    "import torch\n",
    "import torch.nn as nn\n",
    "import torch.optim as optim\n",
    "import torch.nn.functional as F\n",
    "from tqdm import tqdm\n",
    "from torchvision import transforms, datasets"
   ]
  },
  {
   "cell_type": "code",
   "execution_count": 3,
   "metadata": {},
   "outputs": [
    {
     "name": "stdout",
     "output_type": "stream",
     "text": [
      "Files already downloaded and verified\n"
     ]
    }
   ],
   "source": [
    "train_data = datasets.CIFAR10('CIFAR10', train = True, \n",
    "                         transform = transforms.Compose([transforms.ToTensor()]),\n",
    "                         download = True)\n",
    "\n",
    "train_batch = torch.utils.data.DataLoader(train_data, batch_size = 100, shuffle = True)"
   ]
  },
  {
   "cell_type": "code",
   "execution_count": 4,
   "metadata": {},
   "outputs": [
    {
     "name": "stdout",
     "output_type": "stream",
     "text": [
      "GeForce MX130\n"
     ]
    }
   ],
   "source": [
    "if torch.cuda.is_available():\n",
    "    device = torch.device('cuda:0')\n",
    "    print(torch.cuda.get_device_name(0))\n",
    "else:\n",
    "    device = torch.device('cpu')\n",
    "    print(\"Running on cpu\")"
   ]
  },
  {
   "cell_type": "code",
   "execution_count": 5,
   "metadata": {},
   "outputs": [],
   "source": [
    "class Generator(nn.Module):\n",
    "    def __init__(self):\n",
    "        super().__init__()\n",
    "        self.convT1 = nn.ConvTranspose2d(100, 512, kernel_size = 4, stride = 1, padding = 0)\n",
    "        self.convT2 = nn.ConvTranspose2d(512, 256, kernel_size = 4, stride = 2, padding = 1)\n",
    "        self.convT3 = nn.ConvTranspose2d(256, 128, kernel_size = 4, stride = 2, padding = 1)\n",
    "        self.convT4 = nn.ConvTranspose2d(128, 64, kernel_size = 4, stride = 2, padding = 1)\n",
    "        self.convT5 = nn.ConvTranspose2d(64, 3, kernel_size = 4, stride = 2, padding = 1)\n",
    "        \n",
    "    def forward(self, x):\n",
    "        x = self.convT1(x)\n",
    "        x = F.relu(F.batch_norm(x))\n",
    "        x = self.convT2(x)\n",
    "        x = F.relu(F.batch_norm(x))\n",
    "        x = self.convT3(x)\n",
    "        x = F.relu(F.batch_norm(x))\n",
    "        x = self.convT4(x)\n",
    "        x = F.relu(F.batch_norm(x))\n",
    "        x = self.convT5(x)\n",
    "        x = torch.Tanh(x)\n",
    "        \n",
    "        return x"
   ]
  },
  {
   "cell_type": "code",
   "execution_count": 6,
   "metadata": {},
   "outputs": [],
   "source": [
    "class Discriminator(nn.Module):\n",
    "    def __init__(self):\n",
    "        super().__init__()\n",
    "        self.conv1 = nn.Conv2d(1, 64, kernel_size = 4, stride = 2, padding = 1)\n",
    "        self.conv2 = nn.Conv2d(64, 128, kernel_size = 4, stride = 2, padding = 1)\n",
    "        self.conv3 = nn.Conv2d(128, 256, kernel_size = 4, stride = 2, padding = 1)\n",
    "        self.conv4 = nn.Conv2d(256, 512, kernel_size = 4, stride = 2, padding = 1)\n",
    "        self.conv5 = nn.Conv2d(512, 1, kernel_size = 4, stride = 1, padding = 0)\n",
    "        \n",
    "        def forward(self, x):\n",
    "            x = self.conv1(x)\n",
    "            x = F.leaky_relu(0.2, x)\n",
    "            x = self.conv2(x)\n",
    "            x = F.leaky_relu(0.2, F.batch_norm(x))\n",
    "            x = self.conv3(x)\n",
    "            x = F.leaky_relu(0.2, F.batch_norm(x))\n",
    "            x = self.conv4(x)\n",
    "            x = F.leaky_relu(0.2, F.batch_norm(x))\n",
    "            x = self.conv5(x)\n",
    "            x = F.sigmoid(x)\n",
    "            \n",
    "            return x"
   ]
  },
  {
   "cell_type": "code",
   "execution_count": 7,
   "metadata": {},
   "outputs": [],
   "source": [
    "def latent_space_vectors(size): #size is the number of samples in a batch\n",
    "    return torch.randn(size, 100).to(device)\n",
    "\n",
    "def real_data_target(size):\n",
    "    return (torch.ones(size, 1)).to(device)\n",
    "\n",
    "def fake_data_target(size):\n",
    "    return (torch.zeros(size, 1)).to(device)"
   ]
  },
  {
   "cell_type": "code",
   "execution_count": 8,
   "metadata": {},
   "outputs": [],
   "source": [
    "discriminator = Discriminator()\n",
    "generator = Generator()\n",
    "loss_function = torch.nn.BCELoss()\n",
    "optimizer_generator = optim.Adam(generator.parameters(), lr = 0.0002)\n",
    "optimizer_discriminator = optim.Adam(discriminator.parameters(), lr = 0.0002)"
   ]
  },
  {
   "cell_type": "code",
   "execution_count": 11,
   "metadata": {},
   "outputs": [],
   "source": [
    "def train_discriminator(real_image, fake_image):\n",
    "    optimizer_discriminator.zero_grad()\n",
    "    \n",
    "    #training discriminator using real images\n",
    "    prediction_real = discriminator.forward(real_image)\n",
    "    loss_real_image = loss_function(prediction_real, real_data_target(prediction_real.size(0)))\n",
    "    loss_real_image.backward()\n",
    "    \n",
    "    #training discriminator using fake image\n",
    "    prediction_fake = discriminator.forward(fake_image)\n",
    "    loss_fake_image = loss_function(prediction_fake, fake_data_target(prediction_real.size(0)))\n",
    "    loss_fake_image.backward()\n",
    "    \n",
    "    optimizer_discriminator.step()\n",
    "    \n",
    "    return loss_real_image + loss_fake_image, prediction_real_image, prediction_fake_image"
   ]
  },
  {
   "cell_type": "code",
   "execution_count": 12,
   "metadata": {},
   "outputs": [],
   "source": [
    "def train_generator(fake_image):\n",
    "    optimizer_generator.zero_grad()\n",
    "    \n",
    "    prediction_fake_image = discriminator.forward(fake_image)\n",
    "    loss_fake_image = loss_function(prediction_fake_image, real_data_target(loss_fake_image.size(0)))\n",
    "    loss_fake_image.backward()\n",
    "    optimizer_generator.step()\n",
    "    \n",
    "    return loss_fake_image"
   ]
  },
  {
   "cell_type": "code",
   "execution_count": null,
   "metadata": {},
   "outputs": [],
   "source": []
  },
  {
   "cell_type": "code",
   "execution_count": null,
   "metadata": {},
   "outputs": [],
   "source": []
  }
 ],
 "metadata": {
  "kernelspec": {
   "display_name": "Python 3",
   "language": "python",
   "name": "python3"
  },
  "language_info": {
   "codemirror_mode": {
    "name": "ipython",
    "version": 3
   },
   "file_extension": ".py",
   "mimetype": "text/x-python",
   "name": "python",
   "nbconvert_exporter": "python",
   "pygments_lexer": "ipython3",
   "version": "3.7.4"
  }
 },
 "nbformat": 4,
 "nbformat_minor": 4
}
