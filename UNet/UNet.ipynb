{
 "cells": [
  {
   "cell_type": "code",
   "execution_count": 47,
   "metadata": {},
   "outputs": [],
   "source": [
    "import torch\n",
    "import numpy as np\n",
    "import torch.nn as nn\n",
    "import torch.nn.functional as F\n",
    "from torchvision import transforms ,datasets"
   ]
  },
  {
   "cell_type": "code",
   "execution_count": 58,
   "metadata": {},
   "outputs": [],
   "source": [
    "class UNet(nn.Module):\n",
    "    def __init__(self):\n",
    "        super().__init__()\n",
    "        \n",
    "        #ENCODER\n",
    "        \n",
    "        self.conv1 = nn.Conv2d(1, 64, kernel_size = (3, 3), stride = 1, padding = 1) # 512x512\n",
    "        self.conv2 = nn.Conv2d(64, 64, kernel_size = (3, 3), stride = 1, padding = 1) # 512x512\n",
    "        \n",
    "        self.conv3 = nn.Conv2d(64, 128, kernel_size = (3, 3), stride = 1, padding = 1) # 256x256\n",
    "        self.conv4 = nn.Conv2d(128, 128, kernel_size = (3, 3), stride = 1, padding = 1) # 256x256\n",
    "        \n",
    "        self.conv5 = nn.Conv2d(128, 256, kernel_size = (3, 3), stride = 1, padding = 1) # 128x128\n",
    "        self.conv6 = nn.Conv2d(256, 256, kernel_size = (3, 3), stride = 1, padding = 1) # 128x128\n",
    "        \n",
    "        self.conv7 = nn.Conv2d(256, 512, kernel_size = (3, 3), stride = 1, padding = 1) # 64x64\n",
    "        self.conv8 = nn.Conv2d(512, 512, kernel_size = (3, 3), stride = 1, padding = 1) # 64x64\n",
    "        \n",
    "        self.conv9 = nn.Conv2d(512, 1024, kernel_size = (3, 3), stride = 1, padding = 1) # 32x32\n",
    "        self.conv10 = nn.Conv2d(1024, 1024, kernel_size = (3, 3), stride = 1, padding = 1) # 32x32\n",
    "        \n",
    "        #DECODER\n",
    "        \n",
    "        self.\n",
    "        \n",
    "    def forward(self, x):\n",
    "        \n",
    "        #ENCODER\n",
    "        \n",
    "        x1 = F.relu(self.conv1(x))\n",
    "        x1 = F.relu(self.conv2(x))\n",
    "        \n",
    "        x2 = F.max_pool2d(x, kernel_size = (2, 2), stride = 2, padding = 0) # 256x256\n",
    "        x2 = F.relu(self.conv3(x))\n",
    "        x2 = F.relu(self.conv4(x))\n",
    "        \n",
    "        x3 = F.max_pool2d(x, kernel_size = (2, 2), stride = 2, padding = 0) # 128x128\n",
    "        x3 = F.relu(self.conv5(x))\n",
    "        x3 = F.relu(self.conv6(x))\n",
    "        \n",
    "        x4 = F.max_pool2d(x, kernel_size = (2, 2), stride = 2, padding = 0) #64x64\n",
    "        x4 = F.relu(self.conv7(x))\n",
    "        x4 = F.relu(self.conv8(x))\n",
    "        \n",
    "        x5 = F.max_pool2d(x, kernel_size = (2, 2), stride = 2, padding = 0) #32x32\n",
    "        x5 = F.relu(self.conv9(x))\n",
    "        x5 = F.relu(self.conv10(x))\n",
    "        \n",
    "        return x"
   ]
  },
  {
   "cell_type": "code",
   "execution_count": null,
   "metadata": {},
   "outputs": [],
   "source": []
  }
 ],
 "metadata": {
  "kernelspec": {
   "display_name": "Python 3",
   "language": "python",
   "name": "python3"
  },
  "language_info": {
   "codemirror_mode": {
    "name": "ipython",
    "version": 3
   },
   "file_extension": ".py",
   "mimetype": "text/x-python",
   "name": "python",
   "nbconvert_exporter": "python",
   "pygments_lexer": "ipython3",
   "version": "3.7.4"
  }
 },
 "nbformat": 4,
 "nbformat_minor": 4
}
